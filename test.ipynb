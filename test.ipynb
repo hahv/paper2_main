{
 "cells": [
  {
   "cell_type": "code",
   "execution_count": 1,
   "id": "dd14ee34",
   "metadata": {},
   "outputs": [
    {
     "data": {
      "text/html": [
       "<pre style=\"white-space:pre;overflow-x:auto;line-height:normal;font-family:Menlo,'DejaVu Sans Mono',consolas,'Courier New',monospace\"><span style=\"font-weight: bold\">&lt;</span><span style=\"color: #ff00ff; text-decoration-color: #ff00ff; font-weight: bold\">temporal.methods.no_temp.NoTempMethod</span><span style=\"color: #000000; text-decoration-color: #000000\"> object at </span><span style=\"color: #008080; text-decoration-color: #008080; font-weight: bold\">0x7f6d84e40750</span><span style=\"font-weight: bold\">&gt;</span>\n",
       "</pre>\n"
      ],
      "text/plain": [
       "\u001b[1m<\u001b[0m\u001b[1;95mtemporal.methods.no_temp.NoTempMethod\u001b[0m\u001b[39m object at \u001b[0m\u001b[1;36m0x7f6d84e40750\u001b[0m\u001b[1m>\u001b[0m\n"
      ]
     },
     "metadata": {},
     "output_type": "display_data"
    }
   ],
   "source": [
    "from temporal.our_exp import *\n",
    "\n",
    "cfg = Config.from_custom_yaml_file(r'./config/base.yaml')\n",
    "current_mt = MethodFactory.create_method(cfg)\n",
    "pprint(current_mt)"
   ]
  }
 ],
 "metadata": {
  "kernelspec": {
   "display_name": "paper2-main",
   "language": "python",
   "name": "python3"
  },
  "language_info": {
   "codemirror_mode": {
    "name": "ipython",
    "version": 3
   },
   "file_extension": ".py",
   "mimetype": "text/x-python",
   "name": "python",
   "nbconvert_exporter": "python",
   "pygments_lexer": "ipython3",
   "version": "3.11.6"
  }
 },
 "nbformat": 4,
 "nbformat_minor": 5
}
